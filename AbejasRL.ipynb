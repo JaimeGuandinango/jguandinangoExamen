{
  "nbformat": 4,
  "nbformat_minor": 0,
  "metadata": {
    "colab": {
      "provenance": [],
      "authorship_tag": "ABX9TyNe4hYZGdOjrG0+KE3/jyhA",
      "include_colab_link": true
    },
    "kernelspec": {
      "name": "python3",
      "display_name": "Python 3"
    },
    "language_info": {
      "name": "python"
    }
  },
  "cells": [
    {
      "cell_type": "markdown",
      "metadata": {
        "id": "view-in-github",
        "colab_type": "text"
      },
      "source": [
        "<a href=\"https://colab.research.google.com/github/JaimeGuandinango/jguandinangoExamen/blob/master/AbejasRL.ipynb\" target=\"_parent\"><img src=\"https://colab.research.google.com/assets/colab-badge.svg\" alt=\"Open In Colab\"/></a>"
      ]
    },
    {
      "cell_type": "code",
      "execution_count": 7,
      "metadata": {
        "id": "ARa2xA7XvhYb"
      },
      "outputs": [],
      "source": [
        "import numpy as np\n",
        "import pylab as plt\n"
      ]
    },
    {
      "cell_type": "code",
      "source": [
        "listaPuntos= [(0,1), (2,5), (5,6),(5,4), (1,2),(2,3), (2,7)] #rutas al panal"
      ],
      "metadata": {
        "id": "2YgQZyKd0zBk"
      },
      "execution_count": 28,
      "outputs": []
    },
    {
      "cell_type": "code",
      "source": [
        "objetivo =7\n",
        "import networkx as nx  #libreria de redes graphos\n",
        "g=nx.Graph()\n",
        "g.add_edges_from(listaPuntos)\n",
        "pos=nx.spring_layout(g)\n",
        "\n",
        "nx.draw_networkx_nodes(g, pos)  #organizar nodos\n",
        "nx.draw_networkx_edges(g, pos)\n",
        "nx.draw_networkx_labels(g, pos)\n",
        "plt.show()"
      ],
      "metadata": {
        "colab": {
          "base_uri": "https://localhost:8080/",
          "height": 406
        },
        "id": "8osPhhqn1QDi",
        "outputId": "aa0972dd-f63a-4830-ed84-bad506a8e633"
      },
      "execution_count": 29,
      "outputs": [
        {
          "output_type": "display_data",
          "data": {
            "text/plain": [
              "<Figure size 640x480 with 1 Axes>"
            ],
            "image/png": "[encoded data removed]"
          },
          "metadata": {}
        }
      ]
    },
    {
      "cell_type": "code",
      "source": [
        "MATRIX_SIZE=8\n"
      ],
      "metadata": {
        "id": "yJXE0_1u28do"
      },
      "execution_count": 22,
      "outputs": []
    },
    {
      "cell_type": "code",
      "source": [
        "R = np.matrix(np.ones(shape=(MATRIX_SIZE,MATRIX_SIZE)))"
      ],
      "metadata": {
        "id": "lfGwMvsz3L5z"
      },
      "execution_count": 33,
      "outputs": []
    },
    {
      "cell_type": "code",
      "source": [
        "R *=-1"
      ],
      "metadata": {
        "id": "iPov7xn-4OIV"
      },
      "execution_count": 34,
      "outputs": []
    },
    {
      "cell_type": "code",
      "source": [
        "for punto in listaPuntos:\n",
        "  print(punto)\n",
        "  if punto [1]== objetivo:\n",
        "    R[punto]= 100\n",
        "  else:\n",
        "    R[punto]= 0\n",
        "\n",
        "if punto(0)==objetivo:\n",
        "    R[punto[::-1]]=100\n",
        "else:\n",
        "    R[punto[::-1]]=0\n",
        "\n",
        "\n",
        "R[objetivo, objetivo] =100\n"
      ],
      "metadata": {
        "colab": {
          "base_uri": "https://localhost:8080/",
          "height": 356
        },
        "id": "aZTJHSCJ4U4x",
        "outputId": "75053e48-6ffc-4fe5-da8c-d850dbd87951"
      },
      "execution_count": 54,
      "outputs": [
        {
          "output_type": "stream",
          "name": "stdout",
          "text": [
            "(0, 1)\n",
            "(2, 5)\n",
            "(5, 6)\n",
            "(5, 4)\n",
            "(1, 2)\n",
            "(2, 3)\n",
            "(2, 7)\n"
          ]
        },
        {
          "output_type": "error",
          "ename": "TypeError",
          "evalue": "ignored",
          "traceback": [
            "\u001b[0;31m---------------------------------------------------------------------------\u001b[0m",
            "\u001b[0;31mTypeError\u001b[0m                                 Traceback (most recent call last)",
            "\u001b[0;32m<ipython-input-54-11b0f160bbc1>\u001b[0m in \u001b[0;36m<cell line: 8>\u001b[0;34m()\u001b[0m\n\u001b[1;32m      6\u001b[0m     \u001b[0mR\u001b[0m\u001b[0;34m[\u001b[0m\u001b[0mpunto\u001b[0m\u001b[0;34m]\u001b[0m\u001b[0;34m=\u001b[0m \u001b[0;36m0\u001b[0m\u001b[0;34m\u001b[0m\u001b[0;34m\u001b[0m\u001b[0m\n\u001b[1;32m      7\u001b[0m \u001b[0;34m\u001b[0m\u001b[0m\n\u001b[0;32m----> 8\u001b[0;31m \u001b[0;32mif\u001b[0m \u001b[0mpunto\u001b[0m\u001b[0;34m(\u001b[0m\u001b[0;36m0\u001b[0m\u001b[0;34m)\u001b[0m\u001b[0;34m==\u001b[0m\u001b[0mobjetivo\u001b[0m\u001b[0;34m:\u001b[0m\u001b[0;34m\u001b[0m\u001b[0;34m\u001b[0m\u001b[0m\n\u001b[0m\u001b[1;32m      9\u001b[0m     \u001b[0mR\u001b[0m\u001b[0;34m[\u001b[0m\u001b[0mpunto\u001b[0m\u001b[0;34m[\u001b[0m\u001b[0;34m:\u001b[0m\u001b[0;34m:\u001b[0m\u001b[0;34m-\u001b[0m\u001b[0;36m1\u001b[0m\u001b[0;34m]\u001b[0m\u001b[0;34m]\u001b[0m\u001b[0;34m=\u001b[0m\u001b[0;36m100\u001b[0m\u001b[0;34m\u001b[0m\u001b[0;34m\u001b[0m\u001b[0m\n\u001b[1;32m     10\u001b[0m \u001b[0;32melse\u001b[0m\u001b[0;34m:\u001b[0m\u001b[0;34m\u001b[0m\u001b[0;34m\u001b[0m\u001b[0m\n",
            "\u001b[0;31mTypeError\u001b[0m: 'tuple' object is not callable"
          ]
        }
      ]
    },
    {
      "cell_type": "code",
      "source": [
        "R"
      ],
      "metadata": {
        "id": "DE0MraX96xg3"
      },
      "execution_count": null,
      "outputs": []
    },
    {
      "cell_type": "code",
      "source": [
        "Q= np.matrix(np.zeros([MATRIX_SIZE, MATRIX_SIZE]))\n",
        "gama = 0.8             #correcciones\n",
        "estadoInicial =1       #punto de partida"
      ],
      "metadata": {
        "id": "0AIrkg_u61aQ"
      },
      "execution_count": 55,
      "outputs": []
    },
    {
      "cell_type": "code",
      "source": [
        "def accionesPosibles(estado):\n",
        "  estadoActual_fila = R[estado]\n",
        "  acAvance = np.where(estadoActual_fila >=0)[1]\n",
        "  \n",
        "  return acAvance"
      ],
      "metadata": {
        "id": "TdCRnPRE7AFp"
      },
      "execution_count": 56,
      "outputs": []
    },
    {
      "cell_type": "code",
      "source": [
        "acDisponible = accionesPosibles(estadoInicial)"
      ],
      "metadata": {
        "id": "bowXy2p27voE"
      },
      "execution_count": 57,
      "outputs": []
    },
    {
      "cell_type": "code",
      "source": [
        "def pruebaSiguienteAccion(rangoAccionesPosibles):\n",
        "  acSiguiente = int(np.random.choice(acDisponible,1))\n",
        "  return acSiguiente"
      ],
      "metadata": {
        "id": "Q-LaW2Jf75x0"
      },
      "execution_count": 58,
      "outputs": []
    },
    {
      "cell_type": "code",
      "source": [
        "accion= pruebaSiguienteAccion(acDisponible)\n"
      ],
      "metadata": {
        "id": "aAHDJVfd8eyy"
      },
      "execution_count": 59,
      "outputs": []
    },
    {
      "cell_type": "code",
      "source": [
        "def actualizar (estadoActual, accion, gama):\n",
        "  indiceMayor= np.where(Q [accion,]==np.max(Q[accion,]))[1]\n",
        "  if indiceMayor.shape[0]>1:\n",
        "    indiceMayor= int(np.random.choice(indiceMayor, size=1))\n",
        "  else:\n",
        "    indiceMayor= int(indiceMayor)\n",
        "\n",
        "  valorMaximo= Q[accion, indiceMayor]\n",
        "\n",
        "  Q[estadoActual, accion] = R[estadoActual, accion]+ gama* valorMaximo\n",
        "  \n",
        "  print('valorMaximo', R[estadoActual, accion]+gama*valorMaximo)\n",
        "\n",
        "  if (np.max(Q)>0):\n",
        "    return(np.sum(Q/np.max(Q)*100))\n",
        "  else:\n",
        "    return 0"
      ],
      "metadata": {
        "id": "sp-2lOcL8897"
      },
      "execution_count": 65,
      "outputs": []
    },
    {
      "cell_type": "code",
      "source": [
        "actualizar(estadoInicial, accion, gama)"
      ],
      "metadata": {
        "id": "eWTQZj50AAyf"
      },
      "execution_count": null,
      "outputs": []
    },
    {
      "cell_type": "code",
      "source": [
        "puntajes=[]\n",
        "for i in range(700):\n",
        "   estadoActual= np.random.randint(0, int(Q.shape[0]))\n",
        "   acDisponible= accionesPosibles(estadoActual)\n",
        "   accion= pruebaSiguienteAccion(acDisponible)\n",
        "   puntaje= actualizar(estadoActual, accion, gama)\n",
        "   puntajes.append(puntaje)\n",
        "\n",
        "print(Q/np.max(Q)*100)"
      ],
      "metadata": {
        "id": "v_H3ohoXAVmu"
      },
      "execution_count": null,
      "outputs": []
    },
    {
      "cell_type": "code",
      "source": [
        "estadoActual= 0\n",
        "pasos= [estadoActual]\n",
        "\n",
        "while estadoActual !=7 :\n",
        "  indiceSiguientePaso= np.where(Q[estadoActual,] == np.max(Q[estadoActual,]))[1]\n",
        "\n",
        "if indiceSiguientePaso.shape[0]> 1:\n",
        "  indiceSiguientePaso= int(np.random.choice(estadoActual, size=1))\n",
        "else:\n",
        "    indiceSiguientePaso= int(indiceSiguientePaso)\n",
        "    estadoActual= indiceSiguientePaso\n",
        "\n",
        "\n",
        "print(\"camino eficiente\")\n",
        "\n",
        "print(pasos)\n",
        "\n",
        "plt.plot(puntajes)\n",
        "plt.show()"
      ],
      "metadata": {
        "colab": {
          "base_uri": "https://localhost:8080/",
          "height": 235
        },
        "id": "HTAVsxg5BvHK",
        "outputId": "26db8570-df10-4453-b2bc-44fd39dba186"
      },
      "execution_count": 74,
      "outputs": [
        {
          "output_type": "error",
          "ename": "NameError",
          "evalue": "ignored",
          "traceback": [
            "\u001b[0;31m---------------------------------------------------------------------------\u001b[0m",
            "\u001b[0;31mNameError\u001b[0m                                 Traceback (most recent call last)",
            "\u001b[0;32m<ipython-input-74-b13c36a62b3f>\u001b[0m in \u001b[0;36m<cell line: 4>\u001b[0;34m()\u001b[0m\n\u001b[1;32m      3\u001b[0m \u001b[0;34m\u001b[0m\u001b[0m\n\u001b[1;32m      4\u001b[0m \u001b[0;32mwhile\u001b[0m \u001b[0mestadoActual\u001b[0m \u001b[0;34m!=\u001b[0m\u001b[0;36m7\u001b[0m \u001b[0;34m:\u001b[0m\u001b[0;34m\u001b[0m\u001b[0;34m\u001b[0m\u001b[0m\n\u001b[0;32m----> 5\u001b[0;31m   \u001b[0mindiceSiguientePaso\u001b[0m\u001b[0;34m=\u001b[0m \u001b[0mnp\u001b[0m\u001b[0;34m.\u001b[0m\u001b[0mwhere\u001b[0m\u001b[0;34m(\u001b[0m\u001b[0mQ\u001b[0m\u001b[0;34m[\u001b[0m\u001b[0mestadoActual\u001b[0m\u001b[0;34m,\u001b[0m\u001b[0;34m]\u001b[0m \u001b[0;34m==\u001b[0m \u001b[0mnp\u001b[0m\u001b[0;34m.\u001b[0m\u001b[0mmax\u001b[0m\u001b[0;34m(\u001b[0m\u001b[0mQ\u001b[0m\u001b[0;34m[\u001b[0m\u001b[0mestadoActual\u001b[0m\u001b[0;34m,\u001b[0m\u001b[0;34m]\u001b[0m\u001b[0;34m)\u001b[0m\u001b[0;34m)\u001b[0m\u001b[0;34m[\u001b[0m\u001b[0;36m1\u001b[0m\u001b[0;34m]\u001b[0m\u001b[0;34m\u001b[0m\u001b[0;34m\u001b[0m\u001b[0m\n\u001b[0m\u001b[1;32m      6\u001b[0m \u001b[0;34m\u001b[0m\u001b[0m\n\u001b[1;32m      7\u001b[0m \u001b[0;32mif\u001b[0m \u001b[0mindiceSiguientePaso\u001b[0m\u001b[0;34m.\u001b[0m\u001b[0mshape\u001b[0m\u001b[0;34m[\u001b[0m\u001b[0;36m0\u001b[0m\u001b[0;34m]\u001b[0m\u001b[0;34m>\u001b[0m \u001b[0;36m1\u001b[0m\u001b[0;34m:\u001b[0m\u001b[0;34m\u001b[0m\u001b[0;34m\u001b[0m\u001b[0m\n",
            "\u001b[0;31mNameError\u001b[0m: name 'Q' is not defined"
          ]
        }
      ]
    }
  ]
}