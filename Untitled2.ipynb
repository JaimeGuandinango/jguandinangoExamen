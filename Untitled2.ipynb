{
  "nbformat": 4,
  "nbformat_minor": 0,
  "metadata": {
    "colab": {
      "provenance": [],
      "gpuType": "T4",
      "authorship_tag": "ABX9TyMon7CmPbm4IlnKKYkIMOqn",
      "include_colab_link": true
    },
    "kernelspec": {
      "name": "python3",
      "display_name": "Python 3"
    },
    "language_info": {
      "name": "python"
    },
    "accelerator": "GPU",
    "gpuClass": "standard"
  },
  "cells": [
    {
      "cell_type": "markdown",
      "metadata": {
        "id": "view-in-github",
        "colab_type": "text"
      },
      "source": [
        "<a href=\"https://colab.research.google.com/github/JaimeGuandinango/jguandinangoExamen/blob/master/Untitled2.ipynb\" target=\"_parent\"><img src=\"https://colab.research.google.com/assets/colab-badge.svg\" alt=\"Open In Colab\"/></a>"
      ]
    },
    {
      "cell_type": "code",
      "execution_count": null,
      "metadata": {
        "id": "VY7DiRrzIXRn"
      },
      "outputs": [],
      "source": [
        "!pip install opencv-python"
      ]
    },
    {
      "cell_type": "code",
      "source": [
        "!pip install opencv-contrib-python"
      ],
      "metadata": {
        "id": "5uTZxlp2Ii8C"
      },
      "execution_count": null,
      "outputs": []
    },
    {
      "cell_type": "code",
      "source": [
        "import cv2\n",
        "import numpy as np\n",
        "from google.colab.patches import cv2_imshow #para que funcione colab\n",
        "\n",
        "#crea arreglos que son la base de una imagen\n",
        "img1= np.zeros((6,8,1), np.uint8)\n",
        "img2= np.ones((6,8,1), np.uint8)\n",
        "img3= 200*np.ones((6,8,1), np.uint8)\n",
        "#mostrar imaguenes\n",
        "cv2_imshow(img1)\n",
        "cv2_imshow(img2)\n",
        "cv2_imshow(img3)\n",
        "\n",
        "#cerrar las ventanas con la tecla escap\n",
        "cv2.waitKey(0)\n",
        "cv2.destroyAllWindows()"
      ],
      "metadata": {
        "colab": {
          "base_uri": "https://localhost:8080/",
          "height": 69
        },
        "id": "N08CE7MUIzaT",
        "outputId": "d861ce8c-2e9c-4203-f204-691bee013380"
      },
      "execution_count": null,
      "outputs": [
        {
          "output_type": "display_data",
          "data": {
            "text/plain": [
              "<PIL.Image.Image image mode=RGB size=8x6 at 0x7FB5BE817CD0>"
            ],
            "image/png": "[encoded data removed]"
          },
          "metadata": {}
        },
        {
          "output_type": "display_data",
          "data": {
            "text/plain": [
              "<PIL.Image.Image image mode=RGB size=8x6 at 0x7FB5BE852080>"
            ],
            "image/png": "[encoded data removed]"
          },
          "metadata": {}
        },
        {
          "output_type": "display_data",
          "data": {
            "text/plain": [
              "<PIL.Image.Image image mode=RGB size=8x6 at 0x7FB5BE817640>"
            ],
            "image/png": "[encoded data removed]"
          },
          "metadata": {}
        }
      ]
    },
    {
      "cell_type": "markdown",
      "source": [],
      "metadata": {
        "id": "lAkNJKtSJqqh"
      }
    },
    {
      "cell_type": "code",
      "source": [
        "import cv2\n",
        "import numpy as np\n",
        "#arreglo de ceros, base de una imagen\n",
        "img1= np.zeros((6,8,1), np.uint8)\n",
        "\n",
        "#colocar vslores de los pixeles\n",
        "img1[1,1]=50\n",
        "img1[4,4]=200\n",
        "img1[3,5]=75\n",
        "img1[2,3]=255\n",
        "\n",
        "#guardo la imagen\n",
        "cv2.imwrite('MiImagenPixeles.jpg', img1)\n"
      ],
      "metadata": {
        "colab": {
          "base_uri": "https://localhost:8080/"
        },
        "id": "QhotnlfFKRp8",
        "outputId": "3ba3e0be-a4a2-4ce2-e0bc-ad8b4ca06d6f"
      },
      "execution_count": null,
      "outputs": [
        {
          "output_type": "execute_result",
          "data": {
            "text/plain": [
              "True"
            ]
          },
          "metadata": {},
          "execution_count": 7
        }
      ]
    },
    {
      "cell_type": "code",
      "source": [
        "import cv2\n",
        "import numpy as np\n",
        "img1= np.zeros((6,8,3), np.uint8)\n",
        "img2= 255*np.ones((6,8,3), np.uint8)\n",
        "\n",
        "img1[1,1]=(50,50,50)\n",
        "img1[4,4]=(200,150,10)\n",
        "img1[3,5]=(75,100,255)\n",
        "img1[2,3]=(255,50,100)\n",
        "\n",
        "img2[1,1]=(0,255,255)\n",
        "img2[4,4]=(30,50,255)\n",
        "img2[3,5]=(255,255,50)\n",
        "img2[2,3]=(150,250,50)\n",
        "\n",
        "\n",
        "#mostrar imaguenes\n",
        "cv2_imshow(img1)\n",
        "cv2_imshow(img2)\n",
        "\n",
        "cv2.waitKey(0)\n",
        "cv2.destroyAllWindows()\n"
      ],
      "metadata": {
        "colab": {
          "base_uri": "https://localhost:8080/",
          "height": 52
        },
        "id": "YzXOqgViJChi",
        "outputId": "ed35e106-12d8-42f3-958b-8f6d2a932dca"
      },
      "execution_count": null,
      "outputs": [
        {
          "output_type": "display_data",
          "data": {
            "text/plain": [
              "<PIL.Image.Image image mode=RGB size=8x6 at 0x7FB5B5F6C2E0>"
            ],
            "image/png": "[encoded data removed]"
          },
          "metadata": {}
        },
        {
          "output_type": "display_data",
          "data": {
            "text/plain": [
              "<PIL.Image.Image image mode=RGB size=8x6 at 0x7FB5BE8AA6E0>"
            ],
            "image/png": "[encoded data removed]"
          },
          "metadata": {}
        }
      ]
    },
    {
      "cell_type": "code",
      "source": [
        "import cv2\n",
        "import numpy as np\n",
        "\n",
        "img1= 255*np.ones((6,8,3), np.uint8)\n",
        "img2= 255*np.ones((6,8,3), np.uint16)*256\n",
        "img3= 255*np.ones((6,8,3), np.float32)/256\n",
        "\n",
        "img1[1,1]=(0,255,255)\n",
        "img1[4,4]=(30,50,255)\n",
        "img1[3,5]=(255,255,50)\n",
        "img1[2,3]=(150,250,50)\n",
        "\n",
        "img2[1,1]=(0*256, 255*256, 255/256)\n",
        "img2[4,4]=(30*256, 50*256, 255*256)\n",
        "img2[3,5]=(255*256, 255*256, 50*256)\n",
        "img2[2,3]=(150*256, 250*256, 50*256)\n",
        "\n",
        "img3[1,1]=(0/256, 255/256, 255/256)\n",
        "img3[4,4]=(30/256, 50/256, 255/256)\n",
        "img3[3,5]=(255/256, 255/256, 50/256)\n",
        "img3[2,3]=(150/256, 250/256, 50/256)\n",
        "\n",
        "\n",
        "#mostrar imaguenes\n",
        "cv2_imshow(img1)\n",
        "cv2_imshow(img2)\n",
        "cv2_imshow(img3)\n",
        "\n",
        "cv2.waitKey(0)\n",
        "cv2.destroyAllWindows()"
      ],
      "metadata": {
        "colab": {
          "base_uri": "https://localhost:8080/",
          "height": 69
        },
        "id": "cSG-2GLwIsxR",
        "outputId": "9753ae7f-06b8-4315-93b1-cb241e5aaa07"
      },
      "execution_count": null,
      "outputs": [
        {
          "output_type": "display_data",
          "data": {
            "text/plain": [
              "<PIL.Image.Image image mode=RGB size=8x6 at 0x7FB5B5FE41C0>"
            ],
            "image/png": "[encoded data removed]"
          },
          "metadata": {}
        },
        {
          "output_type": "display_data",
          "data": {
            "text/plain": [
              "<PIL.Image.Image image mode=RGB size=8x6 at 0x7FB5B5FE7040>"
            ],
            "image/png": "[encoded data removed]"
          },
          "metadata": {}
        },
        {
          "output_type": "display_data",
          "data": {
            "text/plain": [
              "<PIL.Image.Image image mode=RGB size=8x6 at 0x7FB5B5FE7400>"
            ],
            "image/png": "[encoded data removed]"
          },
          "metadata": {}
        }
      ]
    },
    {
      "cell_type": "code",
      "source": [
        "!wget https://www.hagenhoff.de/fileadmin/_processed_/6/6/csm_Hagenhoff_Werbeagentur_Blog_Personamarketing_4d694da456.jpg"
      ],
      "metadata": {
        "id": "VC1c6ytSPddm"
      },
      "execution_count": null,
      "outputs": []
    },
    {
      "cell_type": "code",
      "source": [
        "!wget https://github.com/kipr/opencv/blob/master/data/haarcascades/haarcascade_frontalface_default.xml"
      ],
      "metadata": {
        "id": "SqA_GxbRP198"
      },
      "execution_count": null,
      "outputs": []
    },
    {
      "cell_type": "code",
      "source": [
        "!wget https://eclecti.cc/files/2008/03/haarcascade_frontalface_alt.xml"
      ],
      "metadata": {
        "id": "OCqFR9C_P8vp"
      },
      "execution_count": null,
      "outputs": []
    },
    {
      "cell_type": "code",
      "source": [
        "import cv2\n",
        "\n",
        "def detect(path):\n",
        "    img = cv2.imread(path)\n",
        "    # Pasamos la ruta del XML\n",
        "    cascade = cv2.CascadeClassifier(\"haarcascade_frontalface_alt.xml\")\n",
        "    rects = cascade.detectMultiScale(img, 1.3, 4, cv2.CASCADE_SCALE_IMAGE, (20,20))\n",
        "\n",
        "    if len(rects) == 0:\n",
        "        return [], img\n",
        "    rects[:, 2:] += rects[:, :2]\n",
        "    return rects, img\n",
        "\n",
        "def box(rects, img):\n",
        "    for x1, y1, x2, y2 in rects:\n",
        "        cv2.rectangle(img, (x1, y1), (x2, y2), (127, 255, 0), 2)\n",
        "    # Ruta donde guardaremos la imagen con la deteccion de rostros\n",
        "    cv2.imwrite('resultadofoto.jpg', img);\n",
        "\n",
        "# Pasamos la imagen que quremos detectar\n",
        "rects, img=detect(\"foto.jpg\")\n",
        "box(rects, img);"
      ],
      "metadata": {
        "id": "JKqpsmfTRvly"
      },
      "execution_count": null,
      "outputs": []
    },
    {
      "cell_type": "code",
      "source": [
        "import cv2\n",
        "capture = cv2.VideoCapture(0)\n",
        "\n",
        "while (capture.isOpened()):\n",
        "  ret, frame= capture.read()\n",
        "  cv2.imshow('webCam', frame)\n",
        "  if(cv2.waitKey(1) == ord('s')):\n",
        "    break\n",
        "\n",
        "capture.release()\n",
        "cv2.destroyAllWindows()"
      ],
      "metadata": {
        "id": "EAkoACnRr_Uo"
      },
      "execution_count": null,
      "outputs": []
    },
    {
      "cell_type": "code",
      "source": [
        "!pip install face_recognition\n"
      ],
      "metadata": {
        "colab": {
          "base_uri": "https://localhost:8080/"
        },
        "id": "3TI-gwr36EUy",
        "outputId": "7dcb9eb6-7c19-4f2e-80f3-d2f61168e233"
      },
      "execution_count": 1,
      "outputs": [
        {
          "output_type": "stream",
          "name": "stdout",
          "text": [
            "Looking in indexes: https://pypi.org/simple, https://us-python.pkg.dev/colab-wheels/public/simple/\n",
            "Collecting face_recognition\n",
            "  Downloading face_recognition-1.3.0-py2.py3-none-any.whl (15 kB)\n",
            "Collecting face-recognition-models>=0.3.0 (from face_recognition)\n",
            "  Downloading face_recognition_models-0.3.0.tar.gz (100.1 MB)\n",
            "\u001b[2K     \u001b[90m━━━━━━━━━━━━━━━━━━━━━━━━━━━━━━━━━━━━━━━\u001b[0m \u001b[32m100.1/100.1 MB\u001b[0m \u001b[31m5.0 MB/s\u001b[0m eta \u001b[36m0:00:00\u001b[0m\n",
            "\u001b[?25h  Preparing metadata (setup.py) ... \u001b[?25l\u001b[?25hdone\n",
            "Requirement already satisfied: Click>=6.0 in /usr/local/lib/python3.10/dist-packages (from face_recognition) (8.1.3)\n",
            "Requirement already satisfied: dlib>=19.7 in /usr/local/lib/python3.10/dist-packages (from face_recognition) (19.24.1)\n",
            "Requirement already satisfied: numpy in /usr/local/lib/python3.10/dist-packages (from face_recognition) (1.22.4)\n",
            "Requirement already satisfied: Pillow in /usr/local/lib/python3.10/dist-packages (from face_recognition) (8.4.0)\n",
            "Building wheels for collected packages: face-recognition-models\n",
            "  Building wheel for face-recognition-models (setup.py) ... \u001b[?25l\u001b[?25hdone\n",
            "  Created wheel for face-recognition-models: filename=face_recognition_models-0.3.0-py2.py3-none-any.whl size=100566173 sha256=a4267501942712df630732dbc8bfb2e3ec41de9702b9c264e4083b872069b676\n",
            "  Stored in directory: /root/.cache/pip/wheels/7a/eb/cf/e9eced74122b679557f597bb7c8e4c739cfcac526db1fd523d\n",
            "Successfully built face-recognition-models\n",
            "Installing collected packages: face-recognition-models, face_recognition\n",
            "Successfully installed face-recognition-models-0.3.0 face_recognition-1.3.0\n"
          ]
        }
      ]
    },
    {
      "cell_type": "code",
      "source": [
        "from IPython.display import display, Javascript, Image\n",
        "from google.colab.output import eval_js\n",
        "from base64 import b64decode, b64encode\n",
        "import cv2\n",
        "import numpy as np\n",
        "import PIL\n",
        "import io\n",
        "import html\n",
        "import time\n",
        "import face_recognition"
      ],
      "metadata": {
        "id": "BoOm28676g1G"
      },
      "execution_count": 19,
      "outputs": []
    },
    {
      "cell_type": "code",
      "source": [
        "# js a imagen\n",
        "def jscript2imagen(js_reply):\n",
        "  \"\"\"\n",
        "  Params:\n",
        "          js_reply: JavaScript object containing image from webcam\n",
        "  Returns:\n",
        "          img: OpenCV BGR image\n",
        "  \"\"\"\n",
        "  # decode base64 image\n",
        "  image_bytes = b64decode(js_reply.split(',')[1])\n",
        "  # convert bytes to numpy array\n",
        "  jpg_as_np = np.frombuffer(image_bytes, dtype=np.uint8)\n",
        "  # decode numpy array into OpenCV BGR image\n",
        "  img = cv2.imdecode(jpg_as_np, flags=1)\n",
        "\n",
        "  return img\n",
        "\n",
        "# function to convert OpenCV Rectangle bounding box image into base64 byte string to be overlayed on video stream\n",
        "def bbox_to_bytes(bbox_array):\n",
        "  \"\"\"\n",
        "  Params:\n",
        "          bbox_array: Numpy array (pixels) containing rectangle to overlay on video stream.\n",
        "  Returns:\n",
        "        bytes: Base64 image byte string\n",
        "  \"\"\"\n",
        "  # convert array into PIL image\n",
        "  bbox_PIL = PIL.Image.fromarray(bbox_array, 'RGBA')\n",
        "  iobuf = io.BytesIO()\n",
        "  # format bbox into png for return\n",
        "  bbox_PIL.save(iobuf, format='png')\n",
        "  # format return string\n",
        "  bbox_bytes = 'data:image/png;base64,{}'.format((str(b64encode(iobuf.getvalue()), 'utf-8')))"
      ],
      "metadata": {
        "id": "DX6VVq0h6w6e"
      },
      "execution_count": 20,
      "outputs": []
    },
    {
      "cell_type": "code",
      "source": [
        "edgar = face_recognition.load_image_file(\"/content/edgar.png\")\n",
        "edgar_face_encoding = face_recognition.face_encodings(edgar)[0]\n",
        "\n",
        "elsa = face_recognition.load_image_file(\"/content/elsa.png\")\n",
        "elsa_face_encoding = face_recognition.face_encodings(elsa)[0]\n",
        "\n",
        "freddy = face_recognition.load_image_file(\"/content/freddy.png\")\n",
        "freddy_face_encoding = face_recognition.face_encodings(freddy)[0]\n",
        "\n",
        "jaime = face_recognition.load_image_file(\"/content/jaime.png\")\n",
        "jaime_face_encoding = face_recognition.face_encodings(jaime)[0]\n",
        "\n",
        "\n",
        "known_face_encodings = [\n",
        "    edgar_face_encoding,\n",
        "    elsa_face_encoding,\n",
        "    freddy_face_encoding\n",
        "]\n",
        "known_face_names = [\n",
        "    \"Edgar\",\n",
        "    \"Elsa\",\n",
        "    \"Freddy\"\n",
        "    \"jaime\"\n",
        "]"
      ],
      "metadata": {
        "id": "7ReevB-7-OMT"
      },
      "execution_count": 21,
      "outputs": []
    },
    {
      "cell_type": "code",
      "source": [
        "def tomarfoto(filename='photo.jpg', quality=0.8):\n",
        "  js = Javascript('''\n",
        "    async function takePhoto(quality) {\n",
        "      const div = document.createElement('div');\n",
        "      const capture = document.createElement('button');\n",
        "      capture.textContent = 'Capture';\n",
        "      div.appendChild(capture);\n",
        "\n",
        "      const video = document.createElement('video');\n",
        "      video.style.display = 'block';\n",
        "      const stream = await navigator.mediaDevices.getUserMedia({video: true});\n",
        "\n",
        "      document.body.appendChild(div);\n",
        "      div.appendChild(video);\n",
        "      video.srcObject = stream;\n",
        "      await video.play();\n",
        "\n",
        "      // Resize the output to fit the video element.\n",
        "      google.colab.output.setIframeHeight(document.documentElement.scrollHeight, true);\n",
        "\n",
        "      // Wait for Capture to be clicked.\n",
        "      await new Promise((resolve) => capture.onclick = resolve);\n",
        "\n",
        "      const canvas = document.createElement('canvas');\n",
        "      canvas.width = video.videoWidth;\n",
        "      canvas.height = video.videoHeight;\n",
        "      canvas.getContext('2d').drawImage(video, 0, 0);\n",
        "      stream.getVideoTracks()[0].stop();\n",
        "      div.remove();\n",
        "      return canvas.toDataURL('image/jpeg', quality);\n",
        "    }\n",
        "    ''')\n",
        "  display(js)\n",
        "\n",
        "  # get photo data\n",
        "  data = eval_js('takePhoto({})'.format(quality))\n",
        "  # get OpenCV format image\n",
        "  img = jscript2imagen(data) \n",
        "  # \n",
        "  #\n",
        "  #\n",
        "  face_locations = face_recognition.face_locations(img)\n",
        "  face_encodings = face_recognition.face_encodings(img, face_locations)\n",
        "  # \n",
        "  #\n",
        "  for (top, right, bottom, left), face_encoding in zip(face_locations, face_encodings):\n",
        "    matches = face_recognition.compare_faces(known_face_encodings, face_encoding)\n",
        "    name = \"Unknown\"\n",
        "    face_distances = face_recognition.face_distance(known_face_encodings, face_encoding)\n",
        "    best_match_index = np.argmin(face_distances)\n",
        "    if matches[best_match_index]:\n",
        "      name = known_face_names[best_match_index]\n",
        "    cv2.rectangle(img, (left, top), (right, bottom), (0, 0, 255), 2)\n",
        "    cv2.rectangle(img, (left, bottom - 35), (right, bottom), (0, 0, 255), cv2.FILLED)\n",
        "    font = cv2.FONT_HERSHEY_DUPLEX\n",
        "    cv2.putText(img, name, (left + 6, bottom - 6), font, 1.0, (255, 255, 255), 1)\n",
        "  # draw face bounding box on image\n",
        "  #for (x,y,w,h) in faces:\n",
        "      #img = cv2.rectangle(img,(x,y),(x+w,y+h),(255,0,0),2)\n",
        "  # save image\n",
        "  cv2.imwrite(filename, img)\n",
        "\n",
        "  return filename"
      ],
      "metadata": {
        "id": "Tigf8Voy-7Ef"
      },
      "execution_count": 22,
      "outputs": []
    },
    {
      "cell_type": "code",
      "source": [
        "try:\n",
        "  filename = tomarfoto('photo.jpg')\n",
        "  print('Guardado a {}'.format(filename))\n",
        "  \n",
        "  # Show the image which was just taken.\n",
        "  display(Image(filename))\n",
        "except Exception as err:\n",
        "  # Errors will be thrown if the user does not have a webcam or if they do not\n",
        "  # grant the page permission to access it.\n",
        "  print(str(err))"
      ],
      "metadata": {
        "colab": {
          "base_uri": "https://localhost:8080/",
          "height": 514
        },
        "id": "RiXWXC0K_PIe",
        "outputId": "934f953f-a931-4ba3-cc19-fdde01d092ca"
      },
      "execution_count": 28,
      "outputs": [
        {
          "output_type": "display_data",
          "data": {
            "text/plain": [
              "<IPython.core.display.Javascript object>"
            ],
            "application/javascript": [
              "\n",
              "    async function takePhoto(quality) {\n",
              "      const div = document.createElement('div');\n",
              "      const capture = document.createElement('button');\n",
              "      capture.textContent = 'Capture';\n",
              "      div.appendChild(capture);\n",
              "\n",
              "      const video = document.createElement('video');\n",
              "      video.style.display = 'block';\n",
              "      const stream = await navigator.mediaDevices.getUserMedia({video: true});\n",
              "\n",
              "      document.body.appendChild(div);\n",
              "      div.appendChild(video);\n",
              "      video.srcObject = stream;\n",
              "      await video.play();\n",
              "\n",
              "      // Resize the output to fit the video element.\n",
              "      google.colab.output.setIframeHeight(document.documentElement.scrollHeight, true);\n",
              "\n",
              "      // Wait for Capture to be clicked.\n",
              "      await new Promise((resolve) => capture.onclick = resolve);\n",
              "\n",
              "      const canvas = document.createElement('canvas');\n",
              "      canvas.width = video.videoWidth;\n",
              "      canvas.height = video.videoHeight;\n",
              "      canvas.getContext('2d').drawImage(video, 0, 0);\n",
              "      stream.getVideoTracks()[0].stop();\n",
              "      div.remove();\n",
              "      return canvas.toDataURL('image/jpeg', quality);\n",
              "    }\n",
              "    "
            ]
          },
          "metadata": {}
        },
        {
          "output_type": "stream",
          "name": "stdout",
          "text": [
            "Guardado a photo.jpg\n"
          ]
        },
        {
          "output_type": "display_data",
          "data": {
            "image/jpeg": "[encoded data removed]",
            "text/plain": [
              "<IPython.core.display.Image object>"
            ]
          },
          "metadata": {}
        }
      ]
    }
  ]
}