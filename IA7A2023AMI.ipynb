{
  "nbformat": 4,
  "nbformat_minor": 0,
  "metadata": {
    "colab": {
      "provenance": [],
      "authorship_tag": "ABX9TyPmQUeMqPClNsQldZeTttsg",
      "include_colab_link": true
    },
    "kernelspec": {
      "name": "python3",
      "display_name": "Python 3"
    },
    "language_info": {
      "name": "python"
    }
  },
  "cells": [
    {
      "cell_type": "markdown",
      "metadata": {
        "id": "view-in-github",
        "colab_type": "text"
      },
      "source": [
        "<a href=\"https://colab.research.google.com/github/JaimeGuandinango/jguandinangoExamen/blob/master/IA7A2023AMI.ipynb\" target=\"_parent\"><img src=\"https://colab.research.google.com/assets/colab-badge.svg\" alt=\"Open In Colab\"/></a>"
      ]
    },
    {
      "cell_type": "markdown",
      "source": [],
      "metadata": {
        "id": "fDegOU_QOPkY"
      }
    },
    {
      "cell_type": "markdown",
      "source": [
        "Bibliotecas a instalar"
      ],
      "metadata": {
        "id": "ifIhVv1YOYWY"
      }
    },
    {
      "cell_type": "code",
      "source": [
        "!pip install sklearn"
      ],
      "metadata": {
        "id": "XT5K0i8iN72p"
      },
      "execution_count": null,
      "outputs": []
    },
    {
      "cell_type": "code",
      "source": [
        "!pip install pandas"
      ],
      "metadata": {
        "id": "Ft6PfkglOg8W"
      },
      "execution_count": 9,
      "outputs": []
    },
    {
      "cell_type": "markdown",
      "source": [
        "cargar el tipo "
      ],
      "metadata": {
        "id": "8JTn_by4O29x"
      }
    },
    {
      "cell_type": "code",
      "execution_count": 14,
      "metadata": {
        "id": "xfMLsaN7NJjA"
      },
      "outputs": [],
      "source": [
        "from sklearn.linear_model import LinearRegression\n",
        "import pandas as pd"
      ]
    },
    {
      "cell_type": "markdown",
      "source": [
        "carga de la dataset"
      ],
      "metadata": {
        "id": "Ie16qaXjOoHY"
      }
    },
    {
      "cell_type": "code",
      "source": [
        "dataset = pd.read_csv('fuentedatos.csv')"
      ],
      "metadata": {
        "id": "3fAdCwFDO8HA"
      },
      "execution_count": null,
      "outputs": []
    },
    {
      "cell_type": "code",
      "source": [
        "1 x = datset[['x1','x2','x3']]"
      ],
      "metadata": {
        "id": "EBAH8lFYPn9o"
      },
      "execution_count": null,
      "outputs": []
    },
    {
      "cell_type": "code",
      "source": [
        "1 rl = LinearRegression()\n"
      ],
      "metadata": {
        "id": "vqkBL_wbQ3do"
      },
      "execution_count": null,
      "outputs": []
    },
    {
      "cell_type": "code",
      "source": [
        "1 rl.fit(x,y)"
      ],
      "metadata": {
        "id": "X-4S0eiqQ9rf"
      },
      "execution_count": null,
      "outputs": []
    },
    {
      "cell_type": "markdown",
      "source": [
        "hagamos pruebas"
      ],
      "metadata": {
        "id": "J4oOTNXRRQTn"
      }
    },
    {
      "cell_type": "code",
      "source": [
        "from numpy.core.fromnumeric import repeat\n",
        "1 ypredecido= [[x1p, x2p,'yt']]\n",
        "rp =rl.predict(ypredecido)\n",
        "print(rp)"
      ],
      "metadata": {
        "id": "LkdRdxuBRSKo"
      },
      "execution_count": null,
      "outputs": []
    }
  ]
}